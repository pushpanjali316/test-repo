{
 "cells": [
  {
   "cell_type": "code",
   "execution_count": 4,
   "id": "4d54282d-1d25-44f5-8e35-0653e1ac3952",
   "metadata": {},
   "outputs": [
    {
     "name": "stdin",
     "output_type": "stream",
     "text": [
      "Enter the coefficient of x^2: 5\n",
      "Enter the coefficient of x^1: 8\n",
      "Enter the constant: 0\n"
     ]
    },
    {
     "name": "stdout",
     "output_type": "stream",
     "text": [
      "Real and distinct roots.\n",
      "Roots are 0j and (-1.6+0j)\n"
     ]
    }
   ],
   "source": [
    "#1a.i\n",
    "\n",
    "import cmath\n",
    "a=float(input(\"Enter the coefficient of x^2:\"))\n",
    "b=float(input(\"Enter the coefficient of x^1:\"))\n",
    "c=float(input(\"Enter the constant:\"))\n",
    "\n",
    "d=b**2-4*a*c\n",
    "root1=(-b+cmath.sqrt(d))/(2*a)\n",
    "root2=(-b-cmath.sqrt(d))/(2*a)\n",
    "\n",
    "if d>0:\n",
    "    print(\"Real and distinct roots.\")\n",
    "elif d==0:\n",
    "    print(\"Real and equal roots.\")\n",
    "else:\n",
    "    print(\"Complex and imaginary roots.\")\n",
    "print(f\"Roots are {root1} and {root2}\")\n"
   ]
  },
  {
   "cell_type": "code",
   "execution_count": 8,
   "id": "ed122eba-5da0-469d-8a15-230c3c47d588",
   "metadata": {},
   "outputs": [
    {
     "name": "stdin",
     "output_type": "stream",
     "text": [
      "Enter a number :  1.5\n",
      "Enter a number :  3.6\n",
      "Enter a operator (+-*/%^) :  *\n"
     ]
    },
    {
     "name": "stdout",
     "output_type": "stream",
     "text": [
      "1.5 * 3.6=5.4\n"
     ]
    }
   ],
   "source": [
    "#1a.ii\n",
    "a=float(input(\"Enter a number : \"))\n",
    "b=float(input(\"Enter a number : \"))\n",
    "op=input(\"Enter a operator (+-*/%^) : \")\n",
    "if op in ['+','-','*','/','%','^']:\n",
    "    if op==\"+\":\n",
    "        print(f\"{a} + {b} = {a+b}\")\n",
    "    if op==\"-\":\n",
    "        print(f\"{a} - {b}={a-b}\")\n",
    "    if op==\"*\":\n",
    "        print(f\"{a} * {b}={a*b}\")\n",
    "    if op==\"/\":\n",
    "        print(f\"{a} / {b}={a/b}\")\n",
    "    if op==\"%\":\n",
    "        print(f\"{a} % {b}={a%b}\")\n",
    "    if op==\"^\":\n",
    "        print(f\"{a} ^ {b}={a**b}\")\n",
    "else:\n",
    "    print(\"Invalid operator.\")"
   ]
  },
  {
   "cell_type": "code",
   "execution_count": 10,
   "id": "b23d4acd-fd51-4368-953d-14697dc4bc35",
   "metadata": {},
   "outputs": [
    {
     "name": "stdin",
     "output_type": "stream",
     "text": [
      "Enter value for a:  3\n",
      "Enter value for b:  2\n"
     ]
    },
    {
     "name": "stdout",
     "output_type": "stream",
     "text": [
      "a= 3\n",
      "b= 2\n",
      "a&b= 2\n",
      "a|b= 3\n",
      "a^b= 1\n",
      "~a= -4\n",
      "~b= -3\n",
      "a<<1= 6\n",
      "a>>1= 1\n"
     ]
    }
   ],
   "source": [
    "# Bitwise Operators\n",
    "\n",
    "a=int(input(\"Enter value for a: \"))\n",
    "b=int(input(\"Enter value for b: \"))\n",
    "\n",
    "print(\"a=\",a)\n",
    "print(\"b=\",b)\n",
    "\n",
    "print(\"a&b=\",a&b)\n",
    "print(\"a|b=\",a|b)\n",
    "print(\"a^b=\",a^b)\n",
    "print(\"~a=\",~a)\n",
    "print(\"~b=\",~b)\n",
    "print(\"a<<1=\",a<<1)\n",
    "print(\"a>>1=\",a>>1)\n"
   ]
  },
  {
   "cell_type": "code",
   "execution_count": 11,
   "id": "0517679a-b59f-4168-b3b0-17a3c2480d9f",
   "metadata": {},
   "outputs": [
    {
     "name": "stdout",
     "output_type": "stream",
     "text": [
      "\n",
      "Menu:\n",
      "1. Check Prime Number\n",
      "2. Check Armstrong Number\n",
      "3. Check Strong Number\n",
      "4. Check Perfect Number\n",
      "5. Exit\n"
     ]
    },
    {
     "name": "stdin",
     "output_type": "stream",
     "text": [
      "Enter your choice:  4\n",
      "Enter a number:  6\n"
     ]
    },
    {
     "name": "stdout",
     "output_type": "stream",
     "text": [
      "Perfect Number\n",
      "\n",
      "Menu:\n",
      "1. Check Prime Number\n",
      "2. Check Armstrong Number\n",
      "3. Check Strong Number\n",
      "4. Check Perfect Number\n",
      "5. Exit\n"
     ]
    },
    {
     "name": "stdin",
     "output_type": "stream",
     "text": [
      "Enter your choice:  2\n",
      "Enter a number:  1535\n"
     ]
    },
    {
     "name": "stdout",
     "output_type": "stream",
     "text": [
      "Not an Armstrong Number\n",
      "\n",
      "Menu:\n",
      "1. Check Prime Number\n",
      "2. Check Armstrong Number\n",
      "3. Check Strong Number\n",
      "4. Check Perfect Number\n",
      "5. Exit\n"
     ]
    },
    {
     "name": "stdin",
     "output_type": "stream",
     "text": [
      "Enter your choice:  3\n",
      "Enter a number:  145\n"
     ]
    },
    {
     "name": "stdout",
     "output_type": "stream",
     "text": [
      "Strong Number\n",
      "\n",
      "Menu:\n",
      "1. Check Prime Number\n",
      "2. Check Armstrong Number\n",
      "3. Check Strong Number\n",
      "4. Check Perfect Number\n",
      "5. Exit\n"
     ]
    },
    {
     "name": "stdin",
     "output_type": "stream",
     "text": [
      "Enter your choice:  7\n",
      "Enter a number:  5\n"
     ]
    },
    {
     "name": "stdout",
     "output_type": "stream",
     "text": [
      "Invalid choice. Please try again.\n",
      "\n",
      "Menu:\n",
      "1. Check Prime Number\n",
      "2. Check Armstrong Number\n",
      "3. Check Strong Number\n",
      "4. Check Perfect Number\n",
      "5. Exit\n"
     ]
    },
    {
     "name": "stdin",
     "output_type": "stream",
     "text": [
      "Enter your choice:  5\n"
     ]
    },
    {
     "name": "stdout",
     "output_type": "stream",
     "text": [
      "Exiting the program.\n"
     ]
    }
   ],
   "source": [
    "#2\n",
    "\n",
    "def is_prime(n):\n",
    "    if n<=1:\n",
    "        return False\n",
    "    for i in range(2,int(n**0.5)+1):\n",
    "        if n%i==0:\n",
    "            return False\n",
    "    return True\n",
    "\n",
    "def is_armstrong(n):\n",
    "    num=n\n",
    "    order=len(str(n))\n",
    "    sum=0\n",
    "    while n>0:\n",
    "        digit=n%10\n",
    "        sum+=digit**order\n",
    "        n//=10\n",
    "    return sum==num\n",
    "\n",
    "def is_strong(n):\n",
    "    def factorial(x):\n",
    "        fact=1\n",
    "        for i in range(1,x+1):\n",
    "            fact*=i\n",
    "        return fact\n",
    "\n",
    "    num=n\n",
    "    sum=0\n",
    "    while n>0:\n",
    "        digit=n%10\n",
    "        sum+=factorial(digit)\n",
    "        n//=10\n",
    "    return sum==num\n",
    "\n",
    "def is_perfect(n):\n",
    "    sum=0\n",
    "    for i in range(1,n):\n",
    "        if n%i==0:\n",
    "            sum+=i\n",
    "    return sum==n\n",
    "\n",
    "while True:\n",
    "    print(\"\\nMenu:\")\n",
    "    print(\"1. Check Prime Number\")\n",
    "    print(\"2. Check Armstrong Number\")\n",
    "    print(\"3. Check Strong Number\")\n",
    "    print(\"4. Check Perfect Number\")\n",
    "    print(\"5. Exit\")\n",
    "\n",
    "    choice=int(input(\"Enter your choice: \"))\n",
    "\n",
    "    if choice==5:\n",
    "        print(\"Exiting the program.\")\n",
    "        break\n",
    "\n",
    "    num=int(input(\"Enter a number: \"))\n",
    "\n",
    "    if choice==1:\n",
    "        print(\"Prime Number\" if is_prime(num) else \"Not a Prime Number\")\n",
    "    elif choice==2:\n",
    "        print(\"Armstrong Number\" if is_armstrong(num) else \"Not an Armstrong Number\")\n",
    "    elif choice==3:\n",
    "        print(\"Strong Number\" if is_strong(num) else \"Not a Strong Number\")\n",
    "    elif choice==4:\n",
    "        print(\"Perfect Number\" if is_perfect(num) else \"Not a Perfect Number\")\n",
    "    else:\n",
    "        print(\"Invalid choice. Please try again.\")\n"
   ]
  },
  {
   "cell_type": "code",
   "execution_count": 22,
   "id": "fbd70b36-ac52-4ec4-96ce-6b29afc4bd99",
   "metadata": {},
   "outputs": [
    {
     "name": "stdin",
     "output_type": "stream",
     "text": [
      "Enter a number:  2\n"
     ]
    },
    {
     "name": "stdout",
     "output_type": "stream",
     "text": [
      "Square root: 1.4142135623730951\n",
      "Factorial: 2\n",
      "Power (n^2): 4.0\n",
      "Exponential (e^n): 7.38905609893065\n",
      "Ceiling: 2\n",
      "Floor: 2\n",
      "Natural log (base e): 0.6931471805599453\n",
      "Log base 10: 0.30102999566398114\n",
      "Log base 2: 1.0\n",
      "sin(n): 0.03489949670250097\n",
      "cos(n): 0.9993908270190958\n",
      "tan(n): 0.03492076949174773\n",
      "Absolute value of -n: 2.0\n",
      "Copy sign of -n to 1: -1.0\n",
      "Integer square root: 1\n",
      "Degrees of n: 114.59155902616465\n",
      "Radians of n: 0.03490658503988659\n",
      "Modf(n): (0.0, 2.0)\n",
      "pi: 3.141592653589793\n",
      "e: 2.718281828459045\n",
      "tau (2*pi): 6.283185307179586\n"
     ]
    }
   ],
   "source": [
    "import math\n",
    "\n",
    "n = int(input(\"Enter a number: \"))\n",
    "# Basic mathematical operations\n",
    "print(\"Square root:\", math.sqrt(n))\n",
    "print(\"Factorial:\", math.factorial(n))\n",
    "print(\"Power (n^2):\", math.pow(n, 2))\n",
    "print(\"Exponential (e^n):\", math.exp(n))\n",
    "\n",
    "# Ceiling and floor\n",
    "print(\"Ceiling:\", math.ceil(n))\n",
    "print(\"Floor:\", math.floor(n))\n",
    "\n",
    "# Logarithmic functions\n",
    "print(\"Natural log (base e):\", math.log(n))\n",
    "print(\"Log base 10:\", math.log(n, 10))\n",
    "print(\"Log base 2:\", math.log2(n))\n",
    "\n",
    "# Trigonometric functions (converting to radians first)\n",
    "angle = math.radians(n)\n",
    "print(\"sin(n):\", math.sin(angle))\n",
    "print(\"cos(n):\", math.cos(angle))\n",
    "print(\"tan(n):\", math.tan(angle))\n",
    "\n",
    "\n",
    "# Other functions\n",
    "print(\"Absolute value of -n:\", math.fabs(-n))\n",
    "print(\"Copy sign of -n to 1:\", math.copysign(1, -n))\n",
    "print(\"Integer square root:\", math.isqrt(n))\n",
    "print(\"Degrees of n:\", math.degrees(n))\n",
    "print(\"Radians of n:\", math.radians(n))\n",
    "print(\"Modf(n):\", math.modf(n))  # (fractional part, integer part)\n",
    "\n",
    "# Constants\n",
    "print(\"pi:\", math.pi)\n",
    "print(\"e:\", math.e)\n",
    "print(\"tau (2*pi):\", math.tau)\n"
   ]
  },
  {
   "cell_type": "code",
   "execution_count": 6,
   "id": "45c2b975-0de1-4cc2-9668-70143d1f59c3",
   "metadata": {},
   "outputs": [
    {
     "name": "stdin",
     "output_type": "stream",
     "text": [
      "Enter any character:  5\n"
     ]
    },
    {
     "name": "stdout",
     "output_type": "stream",
     "text": [
      "ord(n): 53\n",
      "chr(ord(n)): 5\n",
      "id(n): 140715254158848\n",
      "type(n): <class 'str'>\n"
     ]
    }
   ],
   "source": [
    "n=input(\"Enter any character: \")\n",
    "\n",
    "# Make sure input is a single character\n",
    "if len(n)==1:\n",
    "    print(\"ord(n):\", ord(n))          # ASCII value of character n\n",
    "    print(\"chr(ord(n)):\", chr(ord(n)))     # Convert ASCII back to character\n",
    "    print(\"id(n):\", id(n))            # Memory address of n\n",
    "    print(\"type(n):\", type(n))        # Data type of n\n",
    "else:\n",
    "    print(\"Please enter a single character.\")\n"
   ]
  },
  {
   "cell_type": "code",
   "execution_count": 45,
   "id": "73859906-96f5-4af3-8433-b387d6e325a5",
   "metadata": {},
   "outputs": [
    {
     "name": "stdin",
     "output_type": "stream",
     "text": [
      "Enter a number :  1\n",
      "Enter another number :  1\n"
     ]
    },
    {
     "name": "stdout",
     "output_type": "stream",
     "text": [
      "GCD of 1 and 1:1\n",
      "Fibonacci of 1:1\n",
      "Factorial of 1 : 1\n"
     ]
    }
   ],
   "source": [
    "def gcd(n1,n2):\n",
    "    if n2==0:\n",
    "        return n1\n",
    "    else:\n",
    "        return gcd(n2,n1%n2)\n",
    "\n",
    "def fibonacci(n):\n",
    "    if n==0:\n",
    "        return 0\n",
    "    elif n==1:\n",
    "        return 1\n",
    "    else:\n",
    "        return fibonacci(n-1)+fibonacci(n-2)\n",
    "\n",
    "def factorial(n):\n",
    "    if n==0 or n==1:\n",
    "        return 1\n",
    "    else:\n",
    "        return n*factorial(n-1)\n",
    "n=int(input(\"Enter a number : \"))\n",
    "m=int(input(\"Enter another number : \"))\n",
    "# Test cases\n",
    "\n",
    "print(f\"GCD of {m} and {n}:{ gcd(m,n)}\")  \n",
    "print(f\"Fibonacci of {n}:{ fibonacci(n)}\")   \n",
    "print(f\"Factorial of {n} : {factorial(n)}\")        \n"
   ]
  },
  {
   "cell_type": "code",
   "execution_count": 52,
   "id": "121c4f58-5d84-471b-86cd-dd3bb3453c55",
   "metadata": {},
   "outputs": [
    {
     "name": "stdin",
     "output_type": "stream",
     "text": [
      "Enter a string:  python\n"
     ]
    },
    {
     "name": "stdout",
     "output_type": "stream",
     "text": [
      "Not palindrome\n"
     ]
    }
   ],
   "source": [
    "def ispalindrome(s):\n",
    "    return s==s[::-1]\n",
    "\n",
    "s=input(\"Enter a string: \").lower()\n",
    "s.replace(\" \",\"\")\n",
    "print(\"Palindrome\" if ispalindrome(s) else \"Not palindrome\")\n",
    "\n"
   ]
  },
  {
   "cell_type": "code",
   "execution_count": null,
   "id": "dd3336d7-b986-4089-b411-191d2e8f0d61",
   "metadata": {},
   "outputs": [],
   "source": [
    "#advanced palindrome check\n",
    "def is_palindrome(s):\n",
    "    # Step 1: Convert to lowercase\n",
    "    s = s.lower()\n",
    "    print(\"After converting to lowercase:\", s)\n",
    "\n",
    "    # Step 2: Remove spaces\n",
    "    s = s.replace(\" \", \"\")\n",
    "    print(\"After removing spaces:\", s)\n",
    "\n",
    "    # Step 3: Remove punctuation and special characters\n",
    "    cleaned = \"\"\n",
    "    for char in s:\n",
    "        if char.isalnum():  # Keep only letters and numbers\n",
    "            cleaned += char\n",
    "    print(\"After removing special characters:\", cleaned)\n",
    "\n",
    "    # Step 4: Reverse the cleaned string\n",
    "    reversed_s = cleaned[::-1]\n",
    "    print(\"Reversed string:\", reversed_s)\n",
    "\n",
    "    # Step 5: Compare cleaned string with reversed string\n",
    "    return cleaned == reversed_s\n",
    "\n",
    "# Main program\n",
    "user_input = input(\"Enter a string: \")\n",
    "if is_palindrome(user_input):\n",
    "    print(\"The input is a palindrome ✅\")\n",
    "else:\n",
    "    print(\"The input is NOT a palindrome ❌\")\n"
   ]
  },
  {
   "cell_type": "code",
   "execution_count": 57,
   "id": "05263ecd-d59a-4302-af18-3f3bc724d28d",
   "metadata": {},
   "outputs": [
    {
     "name": "stdin",
     "output_type": "stream",
     "text": [
      "Enter a sentence:  hello 123\n"
     ]
    },
    {
     "name": "stdout",
     "output_type": "stream",
     "text": [
      "\n",
      "--- Analysis Result ---\n",
      "Original sentence: hello 123\n",
      "No. of words     : 2\n",
      "No. of digits    : 3\n",
      "Uppercase letters: 0\n",
      "Lowercase letters: 5\n"
     ]
    }
   ],
   "source": [
    "# Initialize counters\n",
    "words=digits=upper=lower=0\n",
    "\n",
    "# Input from user\n",
    "x=input(\"Enter a sentence: \")\n",
    "\n",
    "# Loop through each character\n",
    "for ch in x:\n",
    "    if ch.isdigit():\n",
    "        digits += 1\n",
    "    if ch.isupper():\n",
    "        upper += 1\n",
    "    if ch.islower():\n",
    "        lower += 1\n",
    "\n",
    "# Count number of words\n",
    "word_list=x.split()\n",
    "words=len(word_list)\n",
    "\n",
    "# Output results\n",
    "print(\"\\n--- Analysis Result ---\")\n",
    "print(f\"Original sentence: {x}\")\n",
    "print(f\"No. of words     : {words}\")\n",
    "print(f\"No. of digits    : {digits}\")\n",
    "print(f\"Uppercase letters: {upper}\")\n",
    "print(f\"Lowercase letters: {lower}\")\n"
   ]
  },
  {
   "cell_type": "code",
   "execution_count": null,
   "id": "aa3f8025-12db-4098-9aa3-6f8203c00350",
   "metadata": {},
   "outputs": [],
   "source": [
    "with open(\"sample.txt\",\"r\") as file:\n",
    "    content=file.read()\n",
    "\n",
    "print(content)\n",
    "\n",
    "words=content.split()\n",
    "print(words)\n",
    "print(\"No. of words =\", len(words))\n",
    "\n",
    "lines=content.splitlines()\n",
    "print(\"No. of lines =\", len(lines))\n",
    "\n",
    "d={}\n",
    "\n",
    "for word in words:\n",
    "    # convert to lowercase and remove punctuation from start/end\n",
    "    word = word.lower().strip(\".,!@#/'\\\"\")\n",
    "\n",
    "    if word in d:\n",
    "        d[word]+=1\n",
    "    else:\n",
    "        d[word]=1\n",
    "\n",
    "for word,freq in d.items():\n",
    "    print(f\"{word} -> {freq}\")\n"
   ]
  },
  {
   "cell_type": "code",
   "execution_count": 59,
   "id": "858cecae-b882-47aa-9027-701ccec4b69c",
   "metadata": {},
   "outputs": [
    {
     "name": "stdout",
     "output_type": "stream",
     "text": [
      "File Content:\n",
      " this is a sample file.\n",
      "this is python.\n",
      "\n",
      "Words List: ['this', 'is', 'a', 'sample', 'file.', 'this', 'is', 'python.']\n",
      "No. of words = 8\n",
      "\n",
      "--- Word Frequencies ---\n",
      "this -> 2\n",
      "is -> 2\n",
      "a -> 1\n",
      "sample -> 1\n",
      "file -> 1\n",
      "python -> 1\n"
     ]
    }
   ],
   "source": [
    "#advanced couting the frequencies using counter and colletions library\n",
    "from collections import Counter\n",
    "import string\n",
    "\n",
    "# Read content from the file\n",
    "with open(\"sample.txt\", \"r\") as file:\n",
    "    content=file.read()\n",
    "\n",
    "print(\"File Content:\\n\", content)\n",
    "\n",
    "# Split into words\n",
    "words=content.split()\n",
    "print(\"\\nWords List:\", words)\n",
    "print(\"No. of words =\", len(words))\n",
    "\n",
    "# Clean words: lowercase and remove punctuation\n",
    "cleaned_words=[word.lower().strip(string.punctuation) for word in words]\n",
    "\n",
    "# Count frequencies using Counter\n",
    "word_counts = Counter(cleaned_words)\n",
    "\n",
    "# Display word frequencies\n",
    "print(\"\\n--- Word Frequencies ---\")\n",
    "for word, freq in word_counts.items():\n",
    "    print(f\"{word} -> {freq}\")\n"
   ]
  },
  {
   "cell_type": "code",
   "execution_count": 64,
   "id": "bd9f7a46-a621-4427-a2a4-c21c3726f083",
   "metadata": {},
   "outputs": [
    {
     "name": "stdin",
     "output_type": "stream",
     "text": [
      "Enter a num :  2\n",
      "Enter a num :  8\n"
     ]
    },
    {
     "name": "stdout",
     "output_type": "stream",
     "text": [
      "0.25\n",
      "Closing..\n"
     ]
    }
   ],
   "source": [
    "try:\n",
    "    n1=int(input(\"Enter a num : \"))\n",
    "    n2=int(input(\"Enter a num : \"))\n",
    "    result=n1/n2\n",
    "except ZeroDivisionError:\n",
    "    print(\"ERROR !Cannot divide by zero.\")\n",
    "except ValueError:\n",
    "    print(\"Invalid input.Enter only integers \")\n",
    "else:\n",
    "    print(result)\n",
    "finally:\n",
    "    print(\"Closing..\")\n"
   ]
  },
  {
   "cell_type": "code",
   "execution_count": 69,
   "id": "67b7f42a-be56-4de6-a61a-e66cc771caaf",
   "metadata": {},
   "outputs": [
    {
     "name": "stdin",
     "output_type": "stream",
     "text": [
      "enter the list elements (separated by space) :  2\n"
     ]
    },
    {
     "name": "stdout",
     "output_type": "stream",
     "text": [
      "Sorted copy using sorted(): [2]\n",
      "Original list after sorting using sort(): [2]\n"
     ]
    },
    {
     "name": "stdin",
     "output_type": "stream",
     "text": [
      "Enter any number :  3\n"
     ]
    },
    {
     "name": "stdout",
     "output_type": "stream",
     "text": [
      "Not found.\n",
      "Now checking manually using a loop...\n",
      "Not found during manual search.\n"
     ]
    }
   ],
   "source": [
    "l=list(map(int,input(\"enter the list elements (separated by space) : \").split()))\n",
    "\n",
    "# Sorting\n",
    "b=sorted(l)   # Returns a new sorted list\n",
    "print(\"Sorted copy using sorted():\",b)\n",
    "\n",
    "l.sort()      # Sorts the original list in-place\n",
    "print(\"Original list after sorting using sort():\",l)\n",
    "\n",
    "# Searching using 'in'\n",
    "n=int(input(\"Enter any number : \"))\n",
    "if n in l:\n",
    "    print(\"Found\")\n",
    "else:\n",
    "    print(\"Not found.\")\n",
    "\n",
    "print(\"Now checking manually using a loop...\")\n",
    "\n",
    "# Manual search using loop\n",
    "found=False\n",
    "for i in range(len(l)):\n",
    "    if l[i]==n:\n",
    "        print(\"Found during manual search.\")\n",
    "        found=True\n",
    "        break\n",
    "\n",
    "if not found:\n",
    "    print(\"Not found during manual search.\")\n"
   ]
  },
  {
   "cell_type": "code",
   "execution_count": 1,
   "id": "773ec341-5af6-4452-b6cc-0ea6576563bd",
   "metadata": {},
   "outputs": [
    {
     "name": "stdin",
     "output_type": "stream",
     "text": [
      "Enter the list numbers :  2 4 67 3\n"
     ]
    },
    {
     "name": "stdout",
     "output_type": "stream",
     "text": [
      "[2, 4, 67, 3]\n",
      "mean : 19.0\n",
      "Varaince : 768.5\n",
      "standard deviation 27.721832551258224\n"
     ]
    }
   ],
   "source": [
    "import math\n",
    "\n",
    "def find_mean(l):\n",
    "    sum=0\n",
    "    for num in l:\n",
    "        sum+=num\n",
    "    return sum/len(l)\n",
    "def find_variance(l):\n",
    "    sum=0\n",
    "    mean=find_mean(l)\n",
    "    for num in l:\n",
    "        sum+=(num-mean)**2\n",
    "    return sum/len(l)\n",
    "def find_stdeviation(l):\n",
    "    variance=find_variance(l)\n",
    "    return math.sqrt(variance)\n",
    " \n",
    "l=list(map(int,input(\"Enter the list numbers : \").split()))\n",
    "print(l) \n",
    "\n",
    "print(f\"mean : {find_mean(l)}\\nVaraince : {find_variance(l)}\\nstandard deviation {find_stdeviation(l)}\")\n",
    "        "
   ]
  },
  {
   "cell_type": "code",
   "execution_count": 80,
   "id": "5265fa4a-9e10-4458-af34-5d14e0f4e550",
   "metadata": {},
   "outputs": [
    {
     "name": "stdin",
     "output_type": "stream",
     "text": [
      "enter the list elements :  3 4 2 1 2 \n"
     ]
    },
    {
     "name": "stdout",
     "output_type": "stream",
     "text": [
      "duplicates are: [2]\n",
      "List after removing duplicates :  [3, 4, 2, 1]\n"
     ]
    }
   ],
   "source": [
    "def find_duplicates(l):\n",
    "    seen=set()\n",
    "    duplicates=set()\n",
    "    unique=[]\n",
    "    for ch in l:\n",
    "        if ch in seen:\n",
    "            duplicates.add(ch)\n",
    "        else:\n",
    "            seen.add(ch)\n",
    "            unique.append(ch)\n",
    "    print(\"duplicates are:\",list(duplicates))\n",
    "    print(\"List after removing duplicates : \",unique)\n",
    "    \n",
    "\n",
    "l=list(map(int,input(\"enter the list elements : \").split()))\n",
    "find_duplicates(l)\n"
   ]
  },
  {
   "cell_type": "code",
   "execution_count": 8,
   "id": "85d04587-71ed-4620-9cad-9a852e20ccb1",
   "metadata": {},
   "outputs": [
    {
     "name": "stdin",
     "output_type": "stream",
     "text": [
      "enter the list elements :  \n",
      "enter the list elements :  3\n",
      "enter a number to append into list 1:  5\n"
     ]
    },
    {
     "name": "stdout",
     "output_type": "stream",
     "text": [
      "After appending to list 1: [5]\n",
      "After extend of list 2 to list 1 : [5, 3]\n"
     ]
    },
    {
     "name": "stdin",
     "output_type": "stream",
     "text": [
      "enter a number to insert in list1 :  2\n",
      "enter index :  4\n"
     ]
    },
    {
     "name": "stdout",
     "output_type": "stream",
     "text": [
      "After insertion .List 1 is: [5, 3, 2]\n"
     ]
    },
    {
     "name": "stdin",
     "output_type": "stream",
     "text": [
      "enter a number to find index in list 1:  2\n"
     ]
    },
    {
     "name": "stdout",
     "output_type": "stream",
     "text": [
      "Index of 2 : 2\n",
      "After sorting of list 1 : [2, 3, 5]\n"
     ]
    }
   ],
   "source": [
    "l1=list(map(int,input(\"enter the list elements : \").split()))\n",
    "l2=list(map(int,input(\"enter the list elements : \").split()))\n",
    "\n",
    "# i. append(): Adds a single element at the end\n",
    "ele=int(input(\"enter a number to append into list 1: \"))\n",
    "l1.append(ele)\n",
    "print(\"After appending to list 1:\",l1)\n",
    "\n",
    "# ii. extend(): Adds elements of another list\n",
    "l1.extend(l2)\n",
    "print(\"After extend of list 2 to list 1 :\",l1)\n",
    "\n",
    "# iii. insert(): Inserts element at a specific index\n",
    "ele=int(input(\"enter a number to insert in list1 : \"))\n",
    "pos=int(input(\"enter index : \"))\n",
    "l1.insert(pos,ele)\n",
    "print(\"After insertion .List 1 is:\",l1)\n",
    "\n",
    "#iv\n",
    "ele=int(input(\"enter a number to find index in list 1: \"))\n",
    "try:\n",
    "    print(f\"Index of {ele} : {l1.index(ele)}\")\n",
    "except ValueError:\n",
    "    print( ele,\"is not there in list 1 .\")\n",
    "    \n",
    "# v. sort(): Sorts the list\n",
    "l1.sort()\n",
    "print(\"After sorting of list 1 :\",l1)\n",
    "\n"
   ]
  },
  {
   "cell_type": "code",
   "execution_count": 3,
   "id": "09156257-b85c-46f1-9c84-4f0330cff533",
   "metadata": {},
   "outputs": [
    {
     "name": "stdin",
     "output_type": "stream",
     "text": [
      "Enter rows and columns of matrix 1 and 2:  1 2 2 3\n"
     ]
    },
    {
     "name": "stdout",
     "output_type": "stream",
     "text": [
      "Enter the matrix (1x2) row by row (space-separated values):\n"
     ]
    },
    {
     "name": "stdin",
     "output_type": "stream",
     "text": [
      "Row 1:  2 3\n"
     ]
    },
    {
     "name": "stdout",
     "output_type": "stream",
     "text": [
      "Enter the matrix (2x3) row by row (space-separated values):\n"
     ]
    },
    {
     "name": "stdin",
     "output_type": "stream",
     "text": [
      "Row 1:  2 3 4\n",
      "Row 2:  5 6 7\n"
     ]
    },
    {
     "name": "stdout",
     "output_type": "stream",
     "text": [
      "Resultant Matrix:\n",
      "19 24 29\n"
     ]
    }
   ],
   "source": [
    "### multipliation of 2 matrices\n",
    "# Function to read a matrix from user\n",
    "def read_matrix(rows,cols):\n",
    "    print(f\"Enter the matrix ({rows}x{cols}) row by row (space-separated values):\")\n",
    "    matrix=[]\n",
    "    for i in range(rows):\n",
    "        row=list(map(int,input(f\"Row {i+1}: \").split()))\n",
    "        if len(row)!=cols:\n",
    "            print(\"Invalid row length. Please enter again.\")\n",
    "            return read_matrix(rows,cols)\n",
    "        matrix.append(row)\n",
    "    return matrix\n",
    "\n",
    "# Read sizes\n",
    "r1, c1, r2, c2 = map(int, input(\"Enter rows and columns of matrix 1 and 2: \").split())\n",
    "\n",
    "# Check if multiplication is possible\n",
    "if c1!=r2:\n",
    "    print(\"Matrix multiplication not possible. Columns of A must equal rows of B.\")\n",
    "else:\n",
    "    A=read_matrix(r1,c1)\n",
    "    B=read_matrix(r2,c2)\n",
    "\n",
    "    # Initialize result matrix\n",
    "    result=[[0 for _ in range(c2)] for _ in range(r1)]\n",
    "\n",
    "    # Perform matrix multiplication\n",
    "    for i in range(r1):\n",
    "        for j in range(c2):\n",
    "            for k in range(c1):\n",
    "                result[i][j]+=A[i][k]*B[k][j]\n",
    "\n",
    "    # Print result\n",
    "    print(\"Resultant Matrix:\")\n",
    "    for row in result:\n",
    "        print(*row)\n"
   ]
  },
  {
   "cell_type": "code",
   "execution_count": 6,
   "id": "7dbecf7a-de58-4802-a1ef-d45177cd50a2",
   "metadata": {},
   "outputs": [
    {
     "name": "stdin",
     "output_type": "stream",
     "text": [
      "Enter number of rows and columns of Matrix :  1 3\n"
     ]
    },
    {
     "name": "stdout",
     "output_type": "stream",
     "text": [
      "\n",
      "Enter the matrix 1x3 row by row (elements separated by space):\n"
     ]
    },
    {
     "name": "stdin",
     "output_type": "stream",
     "text": [
      "Enter row 1:  2 3 4\n"
     ]
    },
    {
     "name": "stdout",
     "output_type": "stream",
     "text": [
      "\n",
      "Matrix A:\n",
      "2 3 4\n",
      "\n",
      "Transposed Matrix:\n",
      "[2]\n",
      "[3]\n",
      "[4]\n"
     ]
    }
   ],
   "source": [
    "#transpose of matrix\n",
    "\n",
    "def read_matrix(rows,cols):\n",
    "    print(f\"\\nEnter the matrix {rows}x{cols} row by row (elements separated by space):\")\n",
    "    matrix=[]\n",
    "    for i in range(rows):\n",
    "        while True:\n",
    "            row=list(map(int,input(f\"Enter row {i+1}: \").split()))\n",
    "            if len(row)!=cols:\n",
    "                print(\"Invalid number of elements. Please enter exactly\", cols, \"elements.\")\n",
    "            else:\n",
    "                matrix.append(row)\n",
    "                break\n",
    "    return matrix\n",
    "\n",
    "def transpose(a,r1,c1):\n",
    "    result=[]\n",
    "    for i in range(c1):   # loop over columns of original matrix\n",
    "        row=[]\n",
    "        for j in range(r1):  # loop over rows of original matrix\n",
    "            row.append(a[j][i])\n",
    "        result.append(row)\n",
    "    return result\n",
    "\n",
    "# Input dimensions\n",
    "r1,c1=map(int,input(\"Enter number of rows and columns of Matrix : \").split())\n",
    "\n",
    "# Read the matrix\n",
    "A=read_matrix(r1,c1)\n",
    "\n",
    "# Print the matrix\n",
    "print(\"\\nMatrix A:\")\n",
    "for row in A:\n",
    "    print(*row)\n",
    "\n",
    "# Transpose the matrix\n",
    "b=transpose(A,r1,c1)\n",
    "\n",
    "# Print the transposed matrix\n",
    "print(\"\\nTransposed Matrix:\")\n",
    "for row in b:\n",
    "    print(row)\n"
   ]
  },
  {
   "cell_type": "code",
   "execution_count": 8,
   "id": "339e7477-0e9e-4d4c-ba67-8620a60bf934",
   "metadata": {},
   "outputs": [
    {
     "name": "stdout",
     "output_type": "stream",
     "text": [
      "d.get('b', 0): 2\n",
      "d.get('d', 0): 0\n",
      "\n",
      "Keys in dictionary:\n",
      "a\n",
      "b\n",
      "c\n",
      "\n",
      "Dictionary after popping 'a': {'b': 2, 'c': 3}\n",
      "Dictionary after update: {'b': 2, 'c': 3, 'e': 4, 'f': 5}\n",
      "\n",
      "Key-Value pairs:\n",
      "b -> 2\n",
      "c -> 3\n",
      "e -> 4\n",
      "f -> 5\n",
      "\n",
      "Values in dictionary:\n",
      "2\n",
      "3\n",
      "4\n",
      "5\n"
     ]
    }
   ],
   "source": [
    "# Dictionary initialization\n",
    "d={\"a\":1, \"b\":2, \"c\":3}\n",
    "\n",
    "# i. get() – returns value if key exists, else returns default\n",
    "print(\"d.get('b', 0):\", d.get(\"b\", 0))  # Output: 2\n",
    "print(\"d.get('d', 0):\", d.get(\"d\", 0))  # Output: 0 (default since 'd' not in dictionary)\n",
    "\n",
    "# ii. keys() – iterates over keys\n",
    "print(\"\\nKeys in dictionary:\")\n",
    "for key in d.keys():\n",
    "    print(key)\n",
    "\n",
    "# v. pop() – removes key \"a\"\n",
    "d.pop(\"a\")\n",
    "print(\"\\nDictionary after popping 'a':\", d)\n",
    "\n",
    "# vi. update() – adds items from d2 into d\n",
    "d2={\"e\":4, \"f\":5}\n",
    "d.update(d2)\n",
    "print(\"Dictionary after update:\", d)\n",
    "\n",
    "# iv. items() – iterates over key-value pairs\n",
    "print(\"\\nKey-Value pairs:\")\n",
    "for key, value in d.items():\n",
    "    print(f\"{key} -> {value}\")\n",
    "# iii. values() – iterates over values\n",
    "print(\"\\nValues in dictionary:\")\n",
    "for value in d.values():\n",
    "    print(value)\n",
    "\n"
   ]
  },
  {
   "cell_type": "code",
   "execution_count": 18,
   "id": "a08c40f0-32b8-4816-80e7-17143f5c02cb",
   "metadata": {},
   "outputs": [
    {
     "name": "stdin",
     "output_type": "stream",
     "text": [
      "Enter the tuple elements:  1 4 5 2\n"
     ]
    },
    {
     "name": "stdout",
     "output_type": "stream",
     "text": [
      "Tuple is :  (1, 4, 5, 2)\n"
     ]
    },
    {
     "name": "stdin",
     "output_type": "stream",
     "text": [
      "Enter a value to insert into tuple :  3\n",
      "Enter the index :  3\n"
     ]
    },
    {
     "name": "stdout",
     "output_type": "stream",
     "text": [
      "Updated tuple: (1, 4, 5, 3, 2)\n"
     ]
    }
   ],
   "source": [
    "# Original tuple\n",
    "t=tuple(map(int,input(\"Enter the tuple elements: \").split()))\n",
    "print(\"Tuple is : \",t)\n",
    "\n",
    "# Convert tuple to list and perform operation\n",
    "temp_list=list(t)\n",
    "val=int(input(\"Enter a value to insert into tuple : \"))\n",
    "index=int(input(\"Enter the index : \"))\n",
    "temp_list.insert(index,val)\n",
    "\n",
    "# Convert list back to tuple\n",
    "t=tuple(temp_list)\n",
    "print(\"Updated tuple:\", t)\n"
   ]
  },
  {
   "cell_type": "code",
   "execution_count": 1,
   "id": "7dfc066c-8168-4de6-bfa9-3ad46959e4ae",
   "metadata": {},
   "outputs": [
    {
     "name": "stdout",
     "output_type": "stream",
     "text": [
      "[[1 2 3]\n",
      " [4 5 6]]\n",
      "After reshaping B (2x3) :\n",
      " [[0 1 2]\n",
      " [3 4 5]]\n",
      "Min of a :  1\n",
      "Max of a :  6\n",
      "sum of a :  21\n",
      "Mean of a :  3.5\n",
      "Variance of a :  2.9166666666666665\n",
      "Standard Deviation of a :  1.707825127659933\n",
      "A**2 :  [[ 1  4  9]\n",
      " [16 25 36]]\n",
      "A * B :  [[ 0  2  6]\n",
      " [12 20 30]]\n",
      "Dot product :  [[ 8 26]\n",
      " [17 62]]\n",
      "MAtrix a: [[1 2 3]\n",
      " [4 5 6]]\n",
      "a[0] matrix :  [1 2 3]\n",
      "a[1][2] :  6\n",
      "a[:,1] :  [2 5]\n",
      "a[1,:] :  [4 5 6]\n",
      "a[:,2] :  [3 6]\n",
      "a[0:2,1:3] :  [[2 3]\n",
      " [5 6]]\n"
     ]
    }
   ],
   "source": [
    "#10a NUMPY OPERATIONS IN PYTHON\n",
    "\"\"\"10. a.Write a Python program to perform operations using numpy..\n",
    "b.Write a Python program to perform operations on Data frame.\n",
    "c.Write a Python program to handle missing values.\n",
    "\"\"\"\n",
    "import numpy as np\n",
    "a=np.array([[1,2,3],[4,5,6]])\n",
    "print(a)\n",
    "b=np.arange(6).reshape(2,3)\n",
    "print(\"After reshaping B (2x3) :\\n\",b)\n",
    "#Mathematical operations\n",
    "print(\"Min of a : \",np.min(a))\n",
    "print(\"Max of a : \",np.max(a))\n",
    "print(\"sum of a : \",np.sum(a))\n",
    "print(\"Mean of a : \",np.mean(a))\n",
    "print(\"Variance of a : \",np.var(a))\n",
    "print(\"Standard Deviation of a : \",np.std(a))\n",
    "\n",
    "#array multiplications\n",
    "print(\"A**2 : \",a**2)#square of A matrix\n",
    "print(\"A * B : \",a*b)#Element wise multiplication\n",
    "print(\"Dot product : \",a@b.T)#matrix multiplication is only possible with transpose of b(3x2) wiht a(2x3)\n",
    "\n",
    "#slicing\n",
    "print(\"MAtrix a:\",a[::])\n",
    "print(\"a[0] matrix : \",a[0])#a array 0th index array - 2nd index element\n",
    "print(\"a[1][2] : \",a[1][2])\n",
    "print(\"a[:,1] : \",a[:,1])#select all rows and coloumn index[1](print 2nd coloumn)\n",
    "print(\"a[1,:] : \",a[1,:])#wiht row index[1] and select all coloumns (print 2 row)\n",
    "print(\"a[:,2] : \",a[:,2])#wiht all rows and select colomn index[2](print 3r coloumn)\n",
    "print(\"a[0:2,1:3] : \",a[0:2,1:3]) #in 0th index array (0:2) , in 1st index array(1:3)\n"
   ]
  },
  {
   "cell_type": "code",
   "execution_count": null,
   "id": "40d7393b-8d5e-4efb-ac7a-2738a92d7cdb",
   "metadata": {},
   "outputs": [],
   "source": [
    "# Operations on DataFrame in Pandas\n",
    "\n",
    "import pandas as pd\n",
    "\n",
    "# 1. Creating a DataFrame\n",
    "data={\n",
    "    'Name': ['Alice', 'Bob', 'Charlie', 'David', 'Eva'],\n",
    "    'Age': [25, 30, 22, 35, 28],\n",
    "    'Marks': [88, 76, 95, 67, 80],\n",
    "    'Grade': ['A', 'B', 'A+', 'C', 'B+']\n",
    "}\n",
    "\n",
    "df=pd.DataFrame(data)\n",
    "\n",
    "# 2. Display the DataFrame\n",
    "print(\"Original DataFrame:\")\n",
    "print(df)\n",
    "\n",
    "# 3. Selecting a column\n",
    "print(\"\\nMarks of all students:\")\n",
    "print(df['Marks'])\n",
    "\n",
    "# 4. Selecting multiple columns\n",
    "print(\"\\nName and Grade of all students:\")\n",
    "print(df[['Name', 'Grade']])\n",
    "\n",
    "# 5. Filtering rows (students with Marks > 80)\n",
    "print(\"\\nStudents with Marks > 80:\")\n",
    "print(df[df['Marks'] > 80])\n",
    "\n",
    "# 6. Sorting the DataFrame by Marks\n",
    "print(\"\\nStudents sorted by Marks (descending):\")\n",
    "print(df.sort_values(by='Marks', ascending=False))\n",
    "\n",
    "# 7. Adding a new column\n",
    "df['Passed']=df['Marks']>=50\n",
    "print(\"\\nDataFrame after adding 'Passed' column:\")\n",
    "print(df)\n",
    "\n",
    "# 8. Updating a value\n",
    "df.at[1, 'Marks']=85  # Change Bob's marks to 85\n",
    "print(\"\\nAfter updating Bob's marks:\")\n",
    "print(df)\n",
    "\n",
    "# 9. Deleting a column\n",
    "df.drop('Grade', axis=1, inplace=True)\n",
    "print(\"\\nAfter dropping 'Grade' column:\")\n",
    "print(df)\n",
    "\n",
    "# 10. Deleting a row\n",
    "df.drop(3, axis=0, inplace=True)  # Drop David (index 3)\n",
    "print(\"\\nAfter dropping row with index 3:\")\n",
    "print(df)\n"
   ]
  },
  {
   "cell_type": "code",
   "execution_count": null,
   "id": "24020caf-6520-4d6a-922d-bef452fea753",
   "metadata": {},
   "outputs": [],
   "source": [
    "#HANDLING MSSING VALUES \n",
    "import pandas as pd\n",
    "\n",
    "# Load the dataset\n",
    "df=pd.read_csv('titanic_sample.csv')\n",
    "\n",
    "# Display missing values before cleaning\n",
    "print(\"Missing values before cleaning:\")\n",
    "print(df.isnull().sum())\n",
    "\n",
    "# Fill missing values in 'Age' column using Mode\n",
    "# (You can also use mean or median depending on the data distribution)\n",
    "df['Age'].fillna(df['Age'].mode()[0], inplace=True)\n",
    "\n",
    "# Drop rows where 'Fare' is missing\n",
    "df.dropna(subset=['Fare'], inplace=True)\n",
    "\n",
    "# Display missing values after cleaning\n",
    "print(\"\\nMissing values after cleaning:\")\n",
    "print(df.isnull().sum())\n",
    "\n",
    "# Display cleaned data with selected columns\n",
    "print(\"\\nCleaned Data (Name, Age, Fare):\")\n",
    "print(df[['Name', 'Age', 'Fare']])\n"
   ]
  }
 ],
 "metadata": {
  "kernelspec": {
   "display_name": "Python 3 (ipykernel)",
   "language": "python",
   "name": "python3"
  },
  "language_info": {
   "codemirror_mode": {
    "name": "ipython",
    "version": 3
   },
   "file_extension": ".py",
   "mimetype": "text/x-python",
   "name": "python",
   "nbconvert_exporter": "python",
   "pygments_lexer": "ipython3",
   "version": "3.12.7"
  }
 },
 "nbformat": 4,
 "nbformat_minor": 5
}
